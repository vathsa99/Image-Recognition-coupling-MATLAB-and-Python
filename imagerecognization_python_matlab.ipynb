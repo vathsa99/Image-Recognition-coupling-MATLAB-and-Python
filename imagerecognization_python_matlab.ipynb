{
 "cells": [
  {
   "cell_type": "markdown",
   "metadata": {},
   "source": [
    "## Importing Libraries"
   ]
  },
  {
   "cell_type": "code",
   "execution_count": 1,
   "metadata": {
    "id": "tV0ERF6VQpn3",
    "scrolled": true
   },
   "outputs": [
    {
     "name": "stdout",
     "output_type": "stream",
     "text": [
      "WARNING:tensorflow:From C:\\Users\\sriva\\miniconda3\\Lib\\site-packages\\keras\\src\\losses.py:2976: The name tf.losses.sparse_softmax_cross_entropy is deprecated. Please use tf.compat.v1.losses.sparse_softmax_cross_entropy instead.\n",
      "\n"
     ]
    }
   ],
   "source": [
    "import matplotlib.pyplot as plt\n",
    "import numpy as np\n",
    "import os\n",
    "import PIL\n",
    "import tensorflow as tf\n",
    "\n",
    "from tensorflow import keras\n",
    "from tensorflow.keras import layers, datasets, models\n",
    "from tensorflow.keras.models import Sequential"
   ]
  },
  {
   "cell_type": "markdown",
   "metadata": {
    "id": "SQUwwGUSQpos"
   },
   "source": [
    "## Prepare Dataset"
   ]
  },
  {
   "cell_type": "code",
   "execution_count": 2,
   "metadata": {
    "colab": {
     "base_uri": "https://localhost:8080/",
     "height": 51
    },
    "id": "Md-nuU-BQpo3",
    "outputId": "9a9b9196-82e4-46f8-aa01-a4cdf48accb6"
   },
   "outputs": [
    {
     "name": "stdout",
     "output_type": "stream",
     "text": [
      "TRAIN IMAGES:  (60000, 28, 28, 1)\n",
      "TEST IMAGES:  (10000, 28, 28, 1)\n"
     ]
    }
   ],
   "source": [
    "(train_images, train_labels), (test_images, test_labels) = datasets.mnist.load_data()\n",
    "\n",
    "train_images = train_images.reshape((60000, 28, 28, 1))\n",
    "test_images = test_images.reshape((10000, 28, 28, 1))\n",
    "\n",
    "# Normalize pixel values to be between 0 and 1\n",
    "train_images, test_images = train_images / 255.0, test_images / 255.0\n",
    "\n",
    "print(\"TRAIN IMAGES: \", train_images.shape)\n",
    "print(\"TEST IMAGES: \", test_images.shape)"
   ]
  },
  {
   "cell_type": "markdown",
   "metadata": {
    "id": "u85pikI_QppL"
   },
   "source": [
    "## Create Model"
   ]
  },
  {
   "cell_type": "code",
   "execution_count": 3,
   "metadata": {
    "id": "ABR85VMcQppM"
   },
   "outputs": [
    {
     "name": "stdout",
     "output_type": "stream",
     "text": [
      "WARNING:tensorflow:From C:\\Users\\sriva\\miniconda3\\Lib\\site-packages\\keras\\src\\backend.py:873: The name tf.get_default_graph is deprecated. Please use tf.compat.v1.get_default_graph instead.\n",
      "\n",
      "WARNING:tensorflow:From C:\\Users\\sriva\\miniconda3\\Lib\\site-packages\\keras\\src\\layers\\pooling\\max_pooling2d.py:161: The name tf.nn.max_pool is deprecated. Please use tf.nn.max_pool2d instead.\n",
      "\n"
     ]
    }
   ],
   "source": [
    "num_classes = 10\n",
    "img_height = 28\n",
    "img_width = 28\n",
    "\n",
    "Create_model = Sequential([\n",
    "    layers.Conv2D(64, (3, 3), activation='relu', input_shape=(28, 28, 1)),\n",
    "    layers.Conv2D(32, 3, padding='same', activation='relu'),\n",
    "    layers.MaxPooling2D(),\n",
    "    layers.Conv2D(16, 3, padding='same', activation='relu'),\n",
    "    layers.MaxPooling2D(),\n",
    "    layers.Conv2D(64, 3, padding='same', activation='relu'),\n",
    "    layers.MaxPooling2D(),\n",
    "    layers.Flatten(),\n",
    "    layers.Dense(128, activation='relu'),\n",
    "    layers.Dense(10, activation='sigmoid')\n",
    "])"
   ]
  },
  {
   "cell_type": "markdown",
   "metadata": {
    "id": "q273hPK2Qppc"
   },
   "source": [
    "## Compile Model"
   ]
  },
  {
   "cell_type": "code",
   "execution_count": 4,
   "metadata": {
    "id": "K3OcHt-TQppf"
   },
   "outputs": [
    {
     "name": "stdout",
     "output_type": "stream",
     "text": [
      "WARNING:tensorflow:From C:\\Users\\sriva\\miniconda3\\Lib\\site-packages\\keras\\src\\optimizers\\__init__.py:309: The name tf.train.Optimizer is deprecated. Please use tf.compat.v1.train.Optimizer instead.\n",
      "\n"
     ]
    }
   ],
   "source": [
    "Create_model.compile(optimizer='adam',\n",
    "              loss=tf.keras.losses.SparseCategoricalCrossentropy(from_logits=True),\n",
    "              metrics=['accuracy'])"
   ]
  },
  {
   "cell_type": "code",
   "execution_count": 5,
   "metadata": {},
   "outputs": [
    {
     "name": "stdout",
     "output_type": "stream",
     "text": [
      "Model: \"sequential\"\n",
      "_________________________________________________________________\n",
      " Layer (type)                Output Shape              Param #   \n",
      "=================================================================\n",
      " conv2d (Conv2D)             (None, 26, 26, 64)        640       \n",
      "                                                                 \n",
      " conv2d_1 (Conv2D)           (None, 26, 26, 32)        18464     \n",
      "                                                                 \n",
      " max_pooling2d (MaxPooling2  (None, 13, 13, 32)        0         \n",
      " D)                                                              \n",
      "                                                                 \n",
      " conv2d_2 (Conv2D)           (None, 13, 13, 16)        4624      \n",
      "                                                                 \n",
      " max_pooling2d_1 (MaxPoolin  (None, 6, 6, 16)          0         \n",
      " g2D)                                                            \n",
      "                                                                 \n",
      " conv2d_3 (Conv2D)           (None, 6, 6, 64)          9280      \n",
      "                                                                 \n",
      " max_pooling2d_2 (MaxPoolin  (None, 3, 3, 64)          0         \n",
      " g2D)                                                            \n",
      "                                                                 \n",
      " flatten (Flatten)           (None, 576)               0         \n",
      "                                                                 \n",
      " dense (Dense)               (None, 128)               73856     \n",
      "                                                                 \n",
      " dense_1 (Dense)             (None, 10)                1290      \n",
      "                                                                 \n",
      "=================================================================\n",
      "Total params: 108154 (422.48 KB)\n",
      "Trainable params: 108154 (422.48 KB)\n",
      "Non-trainable params: 0 (0.00 Byte)\n",
      "_________________________________________________________________\n"
     ]
    }
   ],
   "source": [
    "Create_model.summary()"
   ]
  },
  {
   "cell_type": "markdown",
   "metadata": {
    "id": "036GaKZGQpqE"
   },
   "source": [
    "## Train Model"
   ]
  },
  {
   "cell_type": "code",
   "execution_count": 11,
   "metadata": {
    "colab": {
     "base_uri": "https://localhost:8080/",
     "height": 357
    },
    "id": "l4hi0rW_QpqL",
    "outputId": "a08c9ce3-3b24-4dd2-ac2f-cddaca285002"
   },
   "outputs": [
    {
     "name": "stdout",
     "output_type": "stream",
     "text": [
      "Epoch 1/10\n",
      "WARNING:tensorflow:From C:\\Users\\sriva\\miniconda3\\Lib\\site-packages\\keras\\src\\utils\\tf_utils.py:492: The name tf.ragged.RaggedTensorValue is deprecated. Please use tf.compat.v1.ragged.RaggedTensorValue instead.\n",
      "\n",
      "WARNING:tensorflow:From C:\\Users\\sriva\\miniconda3\\Lib\\site-packages\\keras\\src\\engine\\base_layer_utils.py:384: The name tf.executing_eagerly_outside_functions is deprecated. Please use tf.compat.v1.executing_eagerly_outside_functions instead.\n",
      "\n",
      "1875/1875 [==============================] - 21s 11ms/step - loss: 0.1347 - accuracy: 0.9578\n",
      "Epoch 2/10\n",
      "1875/1875 [==============================] - 20s 11ms/step - loss: 0.0444 - accuracy: 0.9859\n",
      "Epoch 3/10\n",
      "1875/1875 [==============================] - 26s 14ms/step - loss: 0.0322 - accuracy: 0.9897\n",
      "Epoch 4/10\n",
      "1875/1875 [==============================] - 28s 15ms/step - loss: 0.0257 - accuracy: 0.9917\n",
      "Epoch 5/10\n",
      "1875/1875 [==============================] - 35s 19ms/step - loss: 0.0219 - accuracy: 0.9928\n",
      "Epoch 6/10\n",
      "1875/1875 [==============================] - 39s 21ms/step - loss: 0.0179 - accuracy: 0.9947\n",
      "Epoch 7/10\n",
      "1875/1875 [==============================] - 37s 20ms/step - loss: 0.0159 - accuracy: 0.9951\n",
      "Epoch 8/10\n",
      "1875/1875 [==============================] - 37s 20ms/step - loss: 0.0132 - accuracy: 0.9960\n",
      "Epoch 9/10\n",
      "1875/1875 [==============================] - 36s 19ms/step - loss: 0.0117 - accuracy: 0.9962\n",
      "Epoch 10/10\n",
      "1875/1875 [==============================] - 38s 20ms/step - loss: 0.0110 - accuracy: 0.9964\n"
     ]
    }
   ],
   "source": [
    "epochs = 10\n",
    "history = Create_model.fit(\n",
    "  train_images, \n",
    "  train_labels,\n",
    "  epochs = epochs\n",
    ")"
   ]
  },
  {
   "cell_type": "markdown",
   "metadata": {
    "id": "J1ThXQxmQpqZ"
   },
   "source": [
    "## Visualize Training Results"
   ]
  },
  {
   "cell_type": "code",
   "execution_count": 12,
   "metadata": {
    "colab": {
     "base_uri": "https://localhost:8080/",
     "height": 516
    },
    "id": "ThQIghvNQpqb",
    "outputId": "97cb4d08-1c11-40f5-9732-3dff55937a6a"
   },
   "outputs": [
    {
     "data": {
      "text/plain": [
       "Text(0.5, 1.0, 'Training Accuracy and Loss')"
      ]
     },
     "execution_count": 12,
     "metadata": {},
     "output_type": "execute_result"
    },
    {
     "data": {
      "image/png": "[encoded data removed]",
      "text/plain": [
       "<Figure size 400x400 with 1 Axes>"
      ]
     },
     "metadata": {},
     "output_type": "display_data"
    }
   ],
   "source": [
    "acc = history.history['accuracy']\n",
    "loss=history.history['loss']\n",
    "\n",
    "epochs_range = range(epochs)\n",
    "\n",
    "plt.figure(figsize=(4, 4))\n",
    "plt.plot(epochs_range, acc, label='Training Accuracy')\n",
    "plt.plot(epochs_range, loss, label='Loss')\n",
    "plt.legend(loc='lower right')\n",
    "plt.title('Training Accuracy and Loss')\n"
   ]
  },
  {
   "cell_type": "markdown",
   "metadata": {
    "id": "bLqZHZ1uVhpI"
   },
   "source": [
    "## Test Image"
   ]
  },
  {
   "cell_type": "code",
   "execution_count": 13,
   "metadata": {
    "colab": {
     "base_uri": "https://localhost:8080/",
     "height": 353
    },
    "id": "WUKvyxTgVgYN",
    "outputId": "62348f85-fb40-4761-d872-90fe597a6114"
   },
   "outputs": [
    {
     "name": "stdout",
     "output_type": "stream",
     "text": [
      "Prediction of model: [1.0000000e+00 6.3638954e-04 1.9098820e-02 7.7240846e-05 4.3421017e-04\n",
      " 4.2332835e-05 9.9988592e-01 2.1720091e-06 7.6653896e-06 1.0123128e-01]\n",
      "prediction is  [0]\n"
     ]
    },
    {
     "data": {
      "image/png": "[encoded data removed]",
      "text/plain": [
       "<Figure size 640x480 with 1 Axes>"
      ]
     },
     "metadata": {},
     "output_type": "display_data"
    }
   ],
   "source": [
    "image = (train_images[1]).reshape(1,28,28,1)\n",
    "model_pred = Create_model.predict(image, verbose=0)\n",
    "classes_x=np.argmax(model_pred,axis=1)\n",
    "plt.imshow(image.reshape(28,28))\n",
    "print('Prediction of model: {}'.format(model_pred[0]))\n",
    "print('prediction is ',  classes_x)"
   ]
  },
  {
   "cell_type": "code",
   "execution_count": 14,
   "metadata": {
    "colab": {
     "base_uri": "https://localhost:8080/",
     "height": 282
    },
    "id": "26tM44tYTcAq",
    "outputId": "1a2166b6-57cf-466a-b049-73da63119782"
   },
   "outputs": [
    {
     "name": "stdout",
     "output_type": "stream",
     "text": [
      "Prediction of model: [4.9709300e-08 5.4282110e-02 7.8194877e-05 3.9780940e-10 1.0000000e+00\n",
      " 7.5250092e-08 2.2114379e-07 9.4656551e-01 9.4714918e-04 9.9957204e-01]\n",
      "prediction is  [4]\n"
     ]
    },
    {
     "data": {
      "image/png": "[encoded data removed]",
      "text/plain": [
       "<Figure size 640x480 with 1 Axes>"
      ]
     },
     "metadata": {},
     "output_type": "display_data"
    }
   ],
   "source": [
    "image = (train_images[2]).reshape(1,28,28,1)\n",
    "model_pred = Create_model.predict(image, verbose=0)\n",
    "classes_x=np.argmax(model_pred,axis=1)\n",
    "plt.imshow(image.reshape(28,28))\n",
    "print('Prediction of model: {}'.format(model_pred[0]))\n",
    "print('prediction is ',  classes_x)"
   ]
  },
  {
   "cell_type": "markdown",
   "metadata": {
    "id": "pv4mRzFPV8RV"
   },
   "source": [
    "## Test Multiple Image"
   ]
  },
  {
   "cell_type": "code",
   "execution_count": 15,
   "metadata": {
    "colab": {
     "base_uri": "https://localhost:8080/",
     "height": 349
    },
    "id": "zXdh59ABV4Hi",
    "outputId": "12f250e5-c117-4d31-a84b-cfe1264ec27f"
   },
   "outputs": [
    {
     "name": "stdout",
     "output_type": "stream",
     "text": [
      "Test images array shape: (4, 28, 28)\n",
      "Predicted digit: {} [8]\n",
      "Predicted digit: {} [7]\n",
      "Predicted digit: {} [3]\n",
      "Predicted digit: {} [9]\n"
     ]
    },
    {
     "data": {
      "image/png": "[encoded data removed]",
      "text/plain": [
       "<Figure size 640x480 with 4 Axes>"
      ]
     },
     "metadata": {},
     "output_type": "display_data"
    }
   ],
   "source": [
    "\n",
    "images = test_images[110:114]\n",
    "images = images.reshape(images.shape[0], 28, 28)\n",
    "print (\"Test images array shape: {}\".format(images.shape))\n",
    "\n",
    "\n",
    "for i, test_image in enumerate(images, start=1):\n",
    "\n",
    "    org_image = test_image\n",
    "    test_image = test_image.reshape(1,28,28,1)\n",
    "    prediction = Create_model.predict(test_image, verbose=0)\n",
    "    classes_x=np.argmax(prediction,axis=1)\n",
    "\n",
    "    print (\"Predicted digit: {}\", classes_x)\n",
    "    plt.subplot(220+i)\n",
    "    plt.axis('off')\n",
    "    plt.title(\"Predicted digit: {}\".format(classes_x))\n",
    "    plt.imshow(org_image, cmap=plt.get_cmap('gray'))\n",
    "\n",
    "plt.show()\n"
   ]
  },
  {
   "cell_type": "markdown",
   "metadata": {
    "id": "FphNanNsW8AL"
   },
   "source": [
    "## Save Model"
   ]
  },
  {
   "cell_type": "code",
   "execution_count": 15,
   "metadata": {
    "id": "NXj_sZ1lV_S2"
   },
   "outputs": [],
   "source": [
    "Create_model.save(\"tensorflow-cnn-model.h5\")"
   ]
  },
  {
   "cell_type": "markdown",
   "metadata": {
    "id": "pv4mRzFPV8RV"
   },
   "source": [
    "## Prediction using MATLAB"
   ]
  },
  {
   "cell_type": "code",
   "execution_count": 1,
   "metadata": {},
   "outputs": [
    {
     "name": "stderr",
     "output_type": "stream",
     "text": [
      "Warning: 'importKerasNetwork' is not recommended and will be removed in a future release. To import TensorFlow-Keras models, save using the SavedModel format and use importNetworkFromTensorFlow function.Warning: File 'tensorflow-cnn-model.h5' was saved in Keras version '2.15.0'. Import of Keras versions newer than '2.6.0' has not been thoroughly tested yet. The imported model might not exactly match the model saved in the Keras file.Warning: Saved Keras networks do not include classes. Classes will be set to categorical(1:N), where N is the number of classes in the classification output layer of the network.  To specify classes, use the 'Classes' argument."
     ]
    },
    {
     "name": "stdout",
     "output_type": "stream",
     "text": [
      "  18x1 Layer array with layers:\n",
      "\n",
      "     1   'conv2d_input'                  Image Input             28x28x1 images\n",
      "     2   'conv2d'                        2-D Convolution         64 3x3x1 convolutions with stride [1  1] and padding [0  0  0  0]\n",
      "     3   'conv2d_relu'                   ReLU                    ReLU\n",
      "     4   'conv2d_1'                      2-D Convolution         32 3x3x64 convolutions with stride [1  1] and padding 'same'\n",
      "     5   'conv2d_1_relu'                 ReLU                    ReLU\n",
      "     6   'max_pooling2d'                 2-D Max Pooling         2x2 max pooling with stride [2  2] and padding [0  0  0  0]\n",
      "     7   'conv2d_2'                      2-D Convolution         16 3x3x32 convolutions with stride [1  1] and padding 'same'\n",
      "     8   'conv2d_2_relu'                 ReLU                    ReLU\n",
      "     9   'max_pooling2d_1'               2-D Max Pooling         2x2 max pooling with stride [2  2] and padding [0  0  0  0]\n",
      "    10   'conv2d_3'                      2-D Convolution         64 3x3x16 convolutions with stride [1  1] and padding 'same'\n",
      "    11   'conv2d_3_relu'                 ReLU                    ReLU\n",
      "    12   'max_pooling2d_2'               2-D Max Pooling         2x2 max pooling with stride [2  2] and padding [0  0  0  0]\n",
      "    13   'flatten'                       Keras Flatten           Flatten activations into 1-D assuming C-style (row-major) order\n",
      "    14   'dense'                         Fully Connected         128 fully connected layer\n",
      "    15   'dense_relu'                    ReLU                    ReLU\n",
      "    16   'dense_1'                       Fully Connected         10 fully connected layer\n",
      "    17   'dense_1_sigmoid'               Sigmoid                 sigmoid\n",
      "    18   'ClassificationLayer_dense_1'   Classification Output   crossentropyex with '1' and 9 other classes\n"
     ]
    },
    {
     "data": {
      "image/png": "[encoded data removed]"
     },
     "execution_count": 1,
     "metadata": {},
     "output_type": "execute_result"
    },
    {
     "data": {
      "image/png": "[encoded data removed]"
     },
     "execution_count": 1,
     "metadata": {},
     "output_type": "execute_result"
    },
    {
     "name": "stdout",
     "output_type": "stream",
     "text": [
      "Predicted Class: 8\n"
     ]
    }
   ],
   "source": [
    "% Load the Keras model\n",
    "kerasModel = importKerasNetwork('tensorflow-cnn-model.h5');\n",
    "\n",
    "% Display the architecture of the loaded model\n",
    "disp(kerasModel.Layers);\n",
    "\n",
    "% Create a digitDatastore for the MNIST dataset\n",
    "digitData = digitDatastore;\n",
    "\n",
    "% Get the number of images in the datastore\n",
    "numImages = numel(digitData.Files);\n",
    "\n",
    "% Generate a random index\n",
    "randomIndex = randperm(numImages, 1);\n",
    "\n",
    "% Read the random image and its label\n",
    "[randomImage, randomLabel] = readimage(digitData, randomIndex);\n",
    "\n",
    "% Display the random image\n",
    "figure;\n",
    "imshow(randomImage);\n",
    "\n",
    "% Resize or reshape the image to have a size of [28 28]\n",
    "testImage = imresize(randomImage, [28, 28]);\n",
    "\n",
    "% Convert image to grayscale if it's not already\n",
    "if size(testImage, 3) == 3\n",
    "    testImage = rgb2gray(testImage);\n",
    "end\n",
    "\n",
    "% Convert image to double and normalize\n",
    "testImage = im2double(testImage);\n",
    "testImage = testImage / max(testImage(:));\n",
    "\n",
    "% Reshape the image to match the input shape expected by the model\n",
    "testImage = reshape(testImage, [28, 28, 1]);\n",
    "\n",
    "% Make predictions using the loaded model\n",
    "predictions = predict(kerasModel, testImage);\n",
    "\n",
    "% Display the input image\n",
    "figure;\n",
    "subplot(1, 2, 1);\n",
    "imshow(randomImage);\n",
    "title('Input Image');\n",
    "\n",
    "% Display the predicted class\n",
    "subplot(1, 2, 2);\n",
    "bar(0:length(predictions)-1, predictions);\n",
    "xlabel('Class');\n",
    "ylabel('Probability');\n",
    "title('Class Probabilities');\n",
    "\n",
    "[~, predictedClass] = max(predictions);\n",
    "disp(['Predicted Class: ', num2str(predictedClass-1)]); % Subtract 1 because classes are zero-indexed\n",
    "\n",
    "\n",
    "\n"
   ]
  },
  {
   "cell_type": "code",
   "execution_count": null,
   "metadata": {},
   "outputs": [],
   "source": []
  }
 ],
 "metadata": {
  "accelerator": "GPU",
  "colab": {
   "collapsed_sections": [],
   "name": "tf_cnn.ipynb",
   "provenance": [],
   "toc_visible": true
  },
  "kernelspec": {
   "display_name": "Python 3 (ipykernel)",
   "language": "python",
   "name": "python3"
  },
  "language_info": {
   "codemirror_mode": {
    "name": "ipython",
    "version": 3
   },
   "file_extension": ".py",
   "mimetype": "text/x-python",
   "name": "python",
   "nbconvert_exporter": "python",
   "pygments_lexer": "ipython3",
   "version": "3.11.5"
  }
 },
 "nbformat": 4,
 "nbformat_minor": 4
}
